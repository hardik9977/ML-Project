{
  "nbformat": 4,
  "nbformat_minor": 0,
  "metadata": {
    "colab": {
      "provenance": [],
      "authorship_tag": "ABX9TyNiHcNA8yUuL5CakpofgudP",
      "include_colab_link": true
    },
    "kernelspec": {
      "name": "python3",
      "display_name": "Python 3"
    },
    "language_info": {
      "name": "python"
    }
  },
  "cells": [
    {
      "cell_type": "markdown",
      "metadata": {
        "id": "view-in-github",
        "colab_type": "text"
      },
      "source": [
        "<a href=\"https://colab.research.google.com/github/hardik9977/-XT-Coding-Assignment/blob/main/car_price_pred.ipynb\" target=\"_parent\"><img src=\"https://colab.research.google.com/assets/colab-badge.svg\" alt=\"Open In Colab\"/></a>"
      ]
    },
    {
      "cell_type": "code",
      "execution_count": null,
      "metadata": {
        "id": "UbUsV25VFHrC"
      },
      "outputs": [],
      "source": [
        "import pandas as pd"
      ]
    },
    {
      "cell_type": "code",
      "source": [
        "car = pd.read_csv('/content/car_price_pred.csv')"
      ],
      "metadata": {
        "id": "Z_g9DJ0oHuCq"
      },
      "execution_count": null,
      "outputs": []
    },
    {
      "cell_type": "code",
      "source": [
        "car.head()"
      ],
      "metadata": {
        "id": "lh_zPmYEHyPD"
      },
      "execution_count": null,
      "outputs": []
    },
    {
      "cell_type": "code",
      "source": [
        "car.info()"
      ],
      "metadata": {
        "id": "nHQ8wr4TH2nT"
      },
      "execution_count": null,
      "outputs": []
    },
    {
      "cell_type": "code",
      "source": [
        "car['fuel_type'].unique()"
      ],
      "metadata": {
        "id": "YYeursb5ICMy"
      },
      "execution_count": null,
      "outputs": []
    },
    {
      "cell_type": "code",
      "source": [
        "car = car[~car['fuel_type'].isna()]"
      ],
      "metadata": {
        "id": "M1Lq3rUmIqQB"
      },
      "execution_count": null,
      "outputs": []
    },
    {
      "cell_type": "code",
      "source": [
        "car['fuel_type'].unique()"
      ],
      "metadata": {
        "id": "8seyvaoXXIXi"
      },
      "execution_count": null,
      "outputs": []
    },
    {
      "cell_type": "code",
      "source": [
        "car['kms_driven'] = car['kms_driven'].str.split(\" \").str.get(0).str.replace(',','').astype('int')"
      ],
      "metadata": {
        "id": "UPo1-DqeXYcO"
      },
      "execution_count": null,
      "outputs": []
    },
    {
      "cell_type": "code",
      "source": [
        "car.info()"
      ],
      "metadata": {
        "id": "yTeYna8wX7It"
      },
      "execution_count": null,
      "outputs": []
    },
    {
      "cell_type": "code",
      "source": [
        "car = car[~(car['Price'] == 'Ask For Price')]"
      ],
      "metadata": {
        "id": "b4GOuXc6Y4aR"
      },
      "execution_count": null,
      "outputs": []
    },
    {
      "cell_type": "code",
      "source": [
        "car['Price'] = car['Price'].str.replace(',', '').astype('int')"
      ],
      "metadata": {
        "id": "TH8y_jCgZgr7"
      },
      "execution_count": null,
      "outputs": []
    },
    {
      "cell_type": "code",
      "source": [
        "car.info()"
      ],
      "metadata": {
        "id": "d09Tk5L9aE3_"
      },
      "execution_count": null,
      "outputs": []
    },
    {
      "cell_type": "code",
      "source": [
        "car['year'] = car['year'].astype('int')"
      ],
      "metadata": {
        "id": "Uv1awG82aWDU"
      },
      "execution_count": null,
      "outputs": []
    },
    {
      "cell_type": "code",
      "source": [
        "car['name'] = car['name'].str.split(\" \").str.slice(0,3).str.join(\" \")"
      ],
      "metadata": {
        "id": "3Ity1ErQamlL"
      },
      "execution_count": null,
      "outputs": []
    },
    {
      "cell_type": "code",
      "source": [
        "car.reset_index(drop=True, inplace=True)"
      ],
      "metadata": {
        "id": "EW5P8eMUaw9m"
      },
      "execution_count": null,
      "outputs": []
    },
    {
      "cell_type": "code",
      "source": [
        "car.describe()"
      ],
      "metadata": {
        "id": "E8OUZI-JjPjh"
      },
      "execution_count": null,
      "outputs": []
    },
    {
      "cell_type": "code",
      "source": [
        "car = car[~(car['Price'] > 5000000)]"
      ],
      "metadata": {
        "id": "UKdxp9J5bXuZ"
      },
      "execution_count": null,
      "outputs": []
    },
    {
      "cell_type": "code",
      "source": [
        "from sklearn.model_selection import train_test_split\n",
        "from sklearn.linear_model import LinearRegression\n",
        "from sklearn.metrics import r2_score\n",
        "from sklearn.preprocessing import OneHotEncoder, LabelEncoder\n",
        "from sklearn.compose import make_column_transformer\n",
        "from sklearn.pipeline import make_pipeline"
      ],
      "metadata": {
        "id": "g6WlEY4YcW4a"
      },
      "execution_count": null,
      "outputs": []
    },
    {
      "cell_type": "code",
      "source": [
        "X = car.drop(columns=['Price'])\n",
        "y = car['Price']\n",
        "X_train, X_test, y_train, y_test = train_test_split(X, y, test_size=0.2, random_state=665)\n",
        "oend = OneHotEncoder()\n",
        "oend.fit(X[['name', 'company', 'fuel_type']])\n",
        "lr = LinearRegression()\n",
        "cal_trans = make_column_transformer((OneHotEncoder(categories=oend.categories_), ['name', 'company', 'fuel_type']), remainder='passthrough')\n",
        "pipe = make_pipeline(cal_trans, lr)\n",
        "pipe.fit(X_train, y_train)\n",
        "y_pred = pipe.predict(X_test)\n",
        "r2_score(y_test, y_pred)"
      ],
      "metadata": {
        "id": "kXSM_zOYdLWi"
      },
      "execution_count": null,
      "outputs": []
    },
    {
      "cell_type": "code",
      "source": [],
      "metadata": {
        "id": "9hV7vyHVonbP"
      },
      "execution_count": null,
      "outputs": []
    }
  ]
}